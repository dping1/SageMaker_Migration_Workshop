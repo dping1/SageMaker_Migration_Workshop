{
 "cells": [
  {
   "cell_type": "code",
   "execution_count": 13,
   "metadata": {},
   "outputs": [
    {
     "name": "stdout",
     "output_type": "stream",
     "text": [
      "Process is terminated.\n"
     ]
    }
   ],
   "source": [
    "%%sh\n",
    "\n",
    "image=credit-approval-serve\n",
    "\n",
    "docker run -v $(pwd)/MY_PROJECT/container/opt/ml:/opt/ml -p 8080:8080 --rm ${image} serve"
   ]
  },
  {
   "cell_type": "code",
   "execution_count": 9,
   "metadata": {},
   "outputs": [
    {
     "name": "stdout",
     "output_type": "stream",
     "text": [
      "CONTAINER ID        IMAGE                   COMMAND                 CREATED              STATUS              PORTS                    NAMES\n",
      "21eb62496245        credit-approval-serve   \"python3 serve serve\"   About a minute ago   Up About a minute   0.0.0.0:8080->8080/tcp   lucid_darwin\n"
     ]
    }
   ],
   "source": [
    "%%sh\n",
    "\n",
    "# check running docker processes\n",
    "docker ps"
   ]
  },
  {
   "cell_type": "code",
   "execution_count": 10,
   "metadata": {},
   "outputs": [
    {
     "name": "stdout",
     "output_type": "stream",
     "text": [
      "21eb62496245\n"
     ]
    }
   ],
   "source": [
    "%%sh\n",
    "# Run the following command to terminate any running process.\n",
    "\n",
    "docker kill 21eb62496245"
   ]
  },
  {
   "cell_type": "code",
   "execution_count": null,
   "metadata": {},
   "outputs": [],
   "source": []
  }
 ],
 "metadata": {
  "kernelspec": {
   "display_name": "conda_tensorflow_p36",
   "language": "python",
   "name": "conda_tensorflow_p36"
  },
  "language_info": {
   "codemirror_mode": {
    "name": "ipython",
    "version": 3
   },
   "file_extension": ".py",
   "mimetype": "text/x-python",
   "name": "python",
   "nbconvert_exporter": "python",
   "pygments_lexer": "ipython3",
   "version": "3.6.5"
  }
 },
 "nbformat": 4,
 "nbformat_minor": 2
}
