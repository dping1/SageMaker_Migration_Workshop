{
 "cells": [
  {
   "cell_type": "markdown",
   "metadata": {},
   "source": [
    "# Step 1 - Testing existing code\n",
    "\n",
    "In this step, we will import and test your existing code to make sure everything can work as it is in the SageMaker notebook instance"
   ]
  },
  {
   "cell_type": "markdown",
   "metadata": {},
   "source": [
    "## 1. Import source code and data\n",
    "\n",
    "First, let's move your data and code to a directory for testing.  Running the script below will create the directory call 'script-testing' for you. Depending on the locations of your source code and data, there are different methods to import your code and data.  "
   ]
  },
  {
   "cell_type": "code",
   "execution_count": 3,
   "metadata": {},
   "outputs": [],
   "source": [
    "%%sh\n",
    "\n",
    "DIRECTORY=my-project\n",
    "\n",
    "if [ ! -d \"$DIRECTORY\" ]; then\n",
    "    mkdir $DIRECTORY\n",
    "fi"
   ]
  },
  {
   "cell_type": "markdown",
   "metadata": {},
   "source": [
    "### For git repo sources\n",
    "\n",
    "#### Clone entire repo\n",
    "\n",
    "If your source code is in Git like repo such Github or CodeCommit, you can use **git clone** command to clone the entire repo. Modify the cell below with target git url path and run the cell."
   ]
  },
  {
   "cell_type": "code",
   "execution_count": 4,
   "metadata": {},
   "outputs": [
    {
     "name": "stderr",
     "output_type": "stream",
     "text": [
      "Cloning into 'credit-approval-prediction'...\n"
     ]
    }
   ],
   "source": [
    "%%sh\n",
    "\n",
    "cd my-project\n",
    "git clone <git uri>\n"
   ]
  },
  {
   "cell_type": "markdown",
   "metadata": {},
   "source": [
    "#### Download individual files"
   ]
  },
  {
   "cell_type": "code",
   "execution_count": null,
   "metadata": {},
   "outputs": [],
   "source": [
    "%%sh\n",
    "\n",
    "cd my-project\n",
    "\n",
    "wget <file url>"
   ]
  },
  {
   "cell_type": "markdown",
   "metadata": {},
   "source": [
    "### Download files from S3 data sources\n",
    "\n",
    "You can use AWS CLI to download files from S3 bucket that you have access to.  Change the **<s3 url>** below with a valid url"
   ]
  },
  {
   "cell_type": "code",
   "execution_count": 3,
   "metadata": {},
   "outputs": [
    {
     "name": "stdout",
     "output_type": "stream",
     "text": [
      "/bin/sh: s3: No such file or directory\n"
     ]
    }
   ],
   "source": [
    "%%sh\n",
    "\n",
    "cd my-project\n",
    "aws s3 cp <s3 url> . "
   ]
  },
  {
   "cell_type": "markdown",
   "metadata": {},
   "source": [
    "### Upload local files\n",
    "\n",
    "Use the File Upload feature on the Jupyter GUI"
   ]
  },
  {
   "cell_type": "markdown",
   "metadata": {},
   "source": [
    "## 2. Testing\n",
    "\n",
    "Tesing **.ipynb** notebook\n",
    " - If you are testing your code in a **.ipynb** noteboook, make sure you pick the right kernel for your notebook. You can use the **Change Kernel** function under the **Kernel menu** items on the Jupyter GUI to select the kernel.\n",
    " - After your code is fully tested, export your notebook as an **executable script** using the **File->Export Notebook As** function\n",
    "\n",
    "Testing **.py** code\n",
    "\n",
    " - If you are testing your code in a terminal window, open a terminal window and activate the correct conda virtual enviroments.\n",
    "     - To list all available conda enviroments, type  **conda env list**\n",
    "     - To activate a environment, type **source activate** and append with the **path the virtual environment**\n",
    "\n",
    " - Make sure you are in right working folder if you use a virtual environment. You can get to the right working folder in your virtual environment by typing:\n",
    "     - cd /home/ec2-user/sagemaker/AWS_SageMaker_Migration_Workshop"
   ]
  },
  {
   "cell_type": "markdown",
   "metadata": {},
   "source": [
    "## 3. Install missing packages\n",
    "\n",
    "If you need to install any missing python packages, you can run pip install directly inside a terminal or notebook with !pip syntax.  \n",
    "\n",
    "There is also a sample requirement.txt provided in this directly.  You can add the packages you need and run the follow command to install python packages.  \n",
    "\n",
    "In order to install the package into the correct conda version environment, change the kernel for this notebook to the target kernel environment (e.g. conda_tensorflow_p36)\n"
   ]
  },
  {
   "cell_type": "code",
   "execution_count": 2,
   "metadata": {},
   "outputs": [
    {
     "name": "stdout",
     "output_type": "stream",
     "text": [
      "Requirement already satisfied: opencv-python in /home/ec2-user/anaconda3/envs/tensorflow_p36/lib/python3.6/site-packages (from -r requirements.txt (line 1)) (3.4.4.19)\n",
      "Collecting mrcnn (from -r requirements.txt (line 2))\n",
      "\u001b[?25l  Downloading https://files.pythonhosted.org/packages/80/3d/56e05c297a1f464a042b2c47bcd9e5f2d452ce0e5eca3894f7cbdcaee758/mrcnn-0.2.tar.gz (51kB)\n",
      "\u001b[K    100% |████████████████████████████████| 61kB 3.7MB/s \n",
      "\u001b[?25hRequirement already satisfied: numpy>=1.11.3 in /home/ec2-user/anaconda3/envs/tensorflow_p36/lib/python3.6/site-packages (from opencv-python->-r requirements.txt (line 1)) (1.14.5)\n",
      "Building wheels for collected packages: mrcnn\n",
      "  Running setup.py bdist_wheel for mrcnn ... \u001b[?25ldone\n",
      "\u001b[?25h  Stored in directory: /home/ec2-user/.cache/pip/wheels/11/ed/28/e550ddc897c04c336b923eae4eb35c9aae993d20ce39d9cc40\n",
      "Successfully built mrcnn\n",
      "Installing collected packages: mrcnn\n",
      "Successfully installed mrcnn-0.2\n",
      "\u001b[33mYou are using pip version 10.0.1, however version 18.1 is available.\n",
      "You should consider upgrading via the 'pip install --upgrade pip' command.\u001b[0m\n"
     ]
    }
   ],
   "source": [
    "!pip install -r requirements.txt"
   ]
  },
  {
   "cell_type": "code",
   "execution_count": 16,
   "metadata": {},
   "outputs": [],
   "source": []
  },
  {
   "cell_type": "code",
   "execution_count": null,
   "metadata": {},
   "outputs": [],
   "source": []
  }
 ],
 "metadata": {
  "kernelspec": {
   "display_name": "conda_tensorflow_p36",
   "language": "python",
   "name": "conda_tensorflow_p36"
  },
  "language_info": {
   "codemirror_mode": {
    "name": "ipython",
    "version": 3
   },
   "file_extension": ".py",
   "mimetype": "text/x-python",
   "name": "python",
   "nbconvert_exporter": "python",
   "pygments_lexer": "ipython3",
   "version": "3.6.5"
  }
 },
 "nbformat": 4,
 "nbformat_minor": 2
}
