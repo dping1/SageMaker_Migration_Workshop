{
 "cells": [
  {
   "cell_type": "markdown",
   "metadata": {},
   "source": [
    "# Step 1 - Testing existing machine learning code\n",
    "\n",
    "In this step, we will import and test your existing code to ensure everything can work as it is in the SageMaker notebook instance"
   ]
  },
  {
   "cell_type": "markdown",
   "metadata": {},
   "source": [
    "## 1. Import source code and data\n",
    "\n",
    "First, let's move your data and code to a directory for testing.  Running the script below will create a directory call **MY_PROJECT** for you. You will using this folder for your own source code and data.  Depending on the locations of your source code and data, there are different methods to import your code and data.  "
   ]
  },
  {
   "cell_type": "code",
   "execution_count": 6,
   "metadata": {},
   "outputs": [],
   "source": [
    "%%sh\n",
    "\n",
    "DIRECTORY=MY_PROJECT\n",
    "\n",
    "if [ ! -d \"$DIRECTORY\" ]; then\n",
    "    mkdir $DIRECTORY\n",
    "fi"
   ]
  },
  {
   "cell_type": "markdown",
   "metadata": {},
   "source": [
    "### For git repo sources\n",
    "\n",
    "#### Clone entire repo\n",
    "\n",
    "If your source code is in Git like repo such Github or CodeCommit, you can use **git clone** command to clone the entire repo. Replace `<git url>` below with the target git repo url.  If you want to try out the steps with a sample project, you can clone the sample at the following url:\n",
    "\n",
    "> https://github.com/mdkearns/credit-approval-prediction.git"
   ]
  },
  {
   "cell_type": "code",
   "execution_count": null,
   "metadata": {},
   "outputs": [],
   "source": [
    "%%sh\n",
    "\n",
    "cd MY_PROJECT\n",
    "git clone <git url>\n"
   ]
  },
  {
   "cell_type": "markdown",
   "metadata": {},
   "source": [
    "#### Download individual files\n",
    "\n",
    "If you want to download individual files from internet site, you can use **wget** command to download them.  Replace `<file url>` below with the target url. "
   ]
  },
  {
   "cell_type": "code",
   "execution_count": null,
   "metadata": {},
   "outputs": [],
   "source": [
    "%%sh\n",
    "\n",
    "cd MY_PROJECT\n",
    "\n",
    "wget <file url>"
   ]
  },
  {
   "cell_type": "markdown",
   "metadata": {},
   "source": [
    "### Download files from S3 data sources\n",
    "\n",
    "You can use AWS CLI to download files from S3 bucket that you have access to.  Change `<s3 url>` below with a valid S3 uri"
   ]
  },
  {
   "cell_type": "code",
   "execution_count": 3,
   "metadata": {},
   "outputs": [
    {
     "name": "stdout",
     "output_type": "stream",
     "text": [
      "/bin/sh: s3: No such file or directory\n"
     ]
    }
   ],
   "source": [
    "%%sh\n",
    "\n",
    "cd MY_PROJECT\n",
    "aws s3 cp <s3 url> . "
   ]
  },
  {
   "cell_type": "markdown",
   "metadata": {},
   "source": [
    "### Upload local files\n",
    "\n",
    "Use the File Upload feature on the Jupyter GUI"
   ]
  },
  {
   "cell_type": "markdown",
   "metadata": {},
   "source": [
    "## 2. Testing\n",
    "\n",
    "*Tesing **.ipynb** notebook*\n",
    " - If you are testing your code in a **.ipynb** noteboook, make sure you pick the right kernel for your notebook. You can use the **Change Kernel** function under the **Kernel menu** items on the Jupyter GUI to select the kernel.\n",
    " \n",
    "\n",
    "*Testing **.py** code*\n",
    "\n",
    " - If you are testing your code in a terminal window, open a terminal window and activate the correct conda virtual enviroments.\n",
    "     - To list all available conda enviroments, type  **conda env list**\n",
    "     - To activate a environment, type **source activate** and append with the **path the virtual environment**\n",
    "\n",
    " - Make sure you are in right working folder if you use a virtual environment. You can get to the right working folder in your virtual environment by typing:\n",
    "     - `cd /home/ec2-user/sagemaker/AWS_SageMaker_Migration_Workshop`"
   ]
  },
  {
   "cell_type": "markdown",
   "metadata": {},
   "source": [
    "## 3. Install missing packages\n",
    "\n",
    "If you need to install any missing python packages, you can run pip install directly inside a terminal or in a notebook with the **!pip** syntax.  \n",
    "\n",
    "There is also a sample requirement.txt provided in this directly.  You can add the packages you need and run the follow command to install the python packages needed in the environment.  \n",
    "\n",
    "In order to install the package into the correct conda version environment, change the kernel for this notebook to the target kernel environment (e.g. conda_tensorflow_p36)\n"
   ]
  },
  {
   "cell_type": "code",
   "execution_count": null,
   "metadata": {},
   "outputs": [],
   "source": [
    "!pip install -r requirements.txt"
   ]
  }
 ],
 "metadata": {
  "kernelspec": {
   "display_name": "conda_tensorflow_p36",
   "language": "python",
   "name": "conda_tensorflow_p36"
  },
  "language_info": {
   "codemirror_mode": {
    "name": "ipython",
    "version": 3
   },
   "file_extension": ".py",
   "mimetype": "text/x-python",
   "name": "python",
   "nbconvert_exporter": "python",
   "pygments_lexer": "ipython3",
   "version": "3.6.5"
  }
 },
 "nbformat": 4,
 "nbformat_minor": 2
}
