{
 "cells": [
  {
   "cell_type": "markdown",
   "metadata": {},
   "source": [
    "# Step 4 - Evaluating SageMaker Built-in Algorithms for your data\n",
    "\n",
    "SageMaker provides a list of built-in algorithms for a wide range of machine learning problems.  Check out documenations and sample notebooks for each of the algorithm listed below"
   ]
  },
  {
   "cell_type": "markdown",
   "metadata": {},
   "source": [
    "### Regression and classification"
   ]
  },
  {
   "cell_type": "markdown",
   "metadata": {},
   "source": [
    " - [Linear Learner](https://docs.aws.amazon.com/sagemaker/latest/dg/linear-learner.html)\n",
    "     - [Sample Notebook](https://github.com/awslabs/amazon-sagemaker-examples/tree/master/introduction_to_amazon_algorithms/linear_learner_mnist)\n",
    "\n",
    "\n",
    " - [XGboost](https://docs.aws.amazon.com/sagemaker/latest/dg/xgboost.html)\n",
    "     - [Sample Notebook](https://github.com/awslabs/amazon-sagemaker-examples/tree/master/introduction_to_amazon_algorithms/xgboost_abalone)\n",
    "\n",
    "\n",
    " - [K-Nearest Neighbor](https://docs.aws.amazon.com/sagemaker/latest/dg/k-nearest-neighbors.html)\n",
    "     - [Sample Notebook](https://github.com/awslabs/amazon-sagemaker-examples/tree/master/introduction_to_amazon_algorithms/k_nearest_neighbors_covtype)\n",
    " \n",
    " \n",
    " - [Factorization Machine](https://docs.aws.amazon.com/sagemaker/latest/dg/fact-machines.html)\n",
    "     - [Sample Notebook](https://github.com/awslabs/amazon-sagemaker-examples/tree/master/introduction_to_amazon_algorithms/factorization_machines_mnist)"
   ]
  },
  {
   "cell_type": "markdown",
   "metadata": {},
   "source": [
    "### Topic modeling\n",
    "\n",
    " - [Spectral LDA](https://docs.aws.amazon.com/sagemaker/latest/dg/lda.html)\n",
    "     - [Sample Notebook](https://github.com/awslabs/amazon-sagemaker-examples/tree/master/introduction_to_amazon_algorithms/lda_topic_modeling)\n",
    "\n",
    " - [Neural Topic Model](https://docs.aws.amazon.com/sagemaker/latest/dg/ntm.html)\n",
    "     - [Sample Notebook](https://github.com/awslabs/amazon-sagemaker-examples/tree/master/introduction_to_applying_machine_learning/ntm_20newsgroups_topic_modeling)"
   ]
  },
  {
   "cell_type": "markdown",
   "metadata": {},
   "source": [
    "### Computer vision\n",
    "\n",
    " - [Image Classfication](https://docs.aws.amazon.com/sagemaker/latest/dg/image-classification.html)\n",
    " \n",
    "     -[Sample Notebook](https://github.com/awslabs/amazon-sagemaker-examples/tree/master/introduction_to_amazon_algorithms/imageclassification_caltech)\n",
    " \n",
    " - [Object Detection](https://docs.aws.amazon.com/sagemaker/latest/dg/object-detection.html)\n",
    "     - [Sample Notebook](https://github.com/awslabs/amazon-sagemaker-examples/tree/master/introduction_to_amazon_algorithms/object_detection_pascalvoc_coco)\n",
    " \n",
    " - [Semantic Segmentation](https://docs.aws.amazon.com/sagemaker/latest/dg/semantic-segmentation.html)\n",
    "     - [Sample Notebook](https://github.com/awslabs/amazon-sagemaker-examples/tree/master/introduction_to_amazon_algorithms/semantic_segmentation_pascalvoc)"
   ]
  },
  {
   "cell_type": "markdown",
   "metadata": {},
   "source": [
    "### Clustering\n",
    "\n",
    " - [k-Means](https://docs.aws.amazon.com/sagemaker/latest/dg/k-means.html)\n",
    "     - [Sample Notebook](https://github.com/awslabs/amazon-sagemaker-examples/tree/master/sagemaker-python-sdk/1P_kmeans_highlevel)"
   ]
  },
  {
   "cell_type": "markdown",
   "metadata": {},
   "source": [
    "### Dimensionality reduction\n",
    "\n",
    " - [Principal Componenet Analysis](https://docs.aws.amazon.com/sagemaker/latest/dg/pca.html)\n",
    "     - [Sample Notebook](https://github.com/awslabs/amazon-sagemaker-examples/tree/master/introduction_to_amazon_algorithms/pca_mnist)"
   ]
  },
  {
   "cell_type": "markdown",
   "metadata": {},
   "source": [
    "### Embedding\n",
    "\n",
    " - [BlazingText](https://docs.aws.amazon.com/sagemaker/latest/dg/blazingtext.html)    \n",
    "     - [Sample Notebook](https://github.com/awslabs/amazon-sagemaker-examples/tree/master/introduction_to_amazon_algorithms/blazingtext_word2vec_text8)\n",
    "     \n",
    " - [Object2Vec](https://docs.aws.amazon.com/sagemaker/latest/dg/object2vec.html)\n",
    "     - [Sample Notebook](https://github.com/awslabs/amazon-sagemaker-examples/tree/master/introduction_to_amazon_algorithms/object2vec_sentence_similarity)\n",
    "       \n",
    "     - [Sample Notebook](https://github.com/awslabs/amazon-sagemaker-examples/tree/master/introduction_to_amazon_algorithms/object2vec_multilabel_genre_classification)\n",
    "       \n",
    "     - [Sample Notebook](https://github.com/awslabs/amazon-sagemaker-examples/tree/master/introduction_to_amazon_algorithms/object2vec_movie_recommendation)"
   ]
  },
  {
   "cell_type": "markdown",
   "metadata": {},
   "source": [
    "### Anomaly detection\n",
    "\n",
    " - [Random Cut Forest](https://docs.aws.amazon.com/sagemaker/latest/dg/randomcutforest.html)\n",
    "     - [Sample Notebook](https://github.com/awslabs/amazon-sagemaker-examples/tree/master/introduction_to_amazon_algorithms/random_cut_forest)\n",
    "     \n",
    " - [IP Insight](https://docs.aws.amazon.com/sagemaker/latest/dg/ip-insights.html)\n",
    "     - [Sample Notebook](https://github.com/awslabs/amazon-sagemaker-examples/tree/master/introduction_to_amazon_algorithms/ipinsights_login)"
   ]
  },
  {
   "cell_type": "markdown",
   "metadata": {},
   "source": [
    "### Forecasting\n",
    "\n",
    " - [DeepAR](https://docs.aws.amazon.com/sagemaker/latest/dg/deepar.html)\n",
    "     - [Sample Notebook](https://github.com/awslabs/amazon-sagemaker-examples/tree/master/introduction_to_amazon_algorithms/deepar_electricity)\n",
    "     \n"
   ]
  },
  {
   "cell_type": "markdown",
   "metadata": {},
   "source": [
    "## Instruction for Using the Built-in Algorithms\n",
    "\n",
    "To get started with migrating your code to use one of built-in algorithms.  Open one of instruction notebooks available for the algorithm of your choice.  For example, the name of instruction notebook for using XGboost for classfication and regression is **Classification-Regression-XGboost.ipynb**"
   ]
  },
  {
   "cell_type": "code",
   "execution_count": null,
   "metadata": {},
   "outputs": [],
   "source": []
  }
 ],
 "metadata": {
  "kernelspec": {
   "display_name": "conda_tensorflow_p36",
   "language": "python",
   "name": "conda_tensorflow_p36"
  },
  "language_info": {
   "codemirror_mode": {
    "name": "ipython",
    "version": 3
   },
   "file_extension": ".py",
   "mimetype": "text/x-python",
   "name": "python",
   "nbconvert_exporter": "python",
   "pygments_lexer": "ipython3",
   "version": "3.6.5"
  }
 },
 "nbformat": 4,
 "nbformat_minor": 2
}
