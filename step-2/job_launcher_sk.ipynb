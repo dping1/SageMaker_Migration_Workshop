{
 "cells": [
  {
   "cell_type": "markdown",
   "metadata": {},
   "source": [
    "This notebook guides you to use SageMaker for model training using a custom container.\n",
    "\n",
    "SageMaker training requires the folllwing 2 inputs\n",
    " - **data**:  SageMaker training job requires all data inputs to be stored in S3 bucket.  You will upload your data to the S3 bucket\n",
    " - **training image**:  SageMaker training requires a docker image for training your model.  You will need to find out the image url\n",
    " "
   ]
  },
  {
   "cell_type": "code",
   "execution_count": 2,
   "metadata": {},
   "outputs": [],
   "source": [
    "import sagemaker\n",
    "from sagemaker import get_execution_role"
   ]
  },
  {
   "cell_type": "code",
   "execution_count": 3,
   "metadata": {},
   "outputs": [],
   "source": [
    "sagemaker_session = sagemaker.Session()\n",
    "role = get_execution_role()"
   ]
  },
  {
   "cell_type": "markdown",
   "metadata": {},
   "source": [
    "### Training, Validation, Test data\n",
    "\n",
    "A folder called **data** has been created, and under the data folder, 3 addtional folders(**train, validation, test**) have been created. You will need to move your training, validation, and test data to these folders respectively\n",
    "\n"
   ]
  },
  {
   "cell_type": "markdown",
   "metadata": {},
   "source": [
    "### The following bucket and directories will be used for store data and source code\n",
    "\n",
    "change the name of s3_bucket and s3_prefix to reflect your bucket and prefix name"
   ]
  },
  {
   "cell_type": "code",
   "execution_count": 4,
   "metadata": {},
   "outputs": [],
   "source": [
    "s3_bucket = '<bucket name>'\n",
    "s3_prefix = '<prefix name>'\n",
    "\n",
    "# S3 location for the training data\n",
    "traindata_s3_prefix = '{}/data/train'.format(s3_prefix)\n",
    "\n",
    "# S3 location for the validation data\n",
    "validationdata_s3_prefix = '{}/data/validation'.format(s3_prefix)\n",
    "\n",
    "# S3 location for the test data\n",
    "testdata_s3_prefix = '{}/data/test'.format(s3_prefix)\n",
    "\n",
    "# S3 location where model will be saved\n",
    "output_s3 = 's3://{}/{}/models/'.format(s3_bucket, s3_prefix)\n",
    "\n",
    "# S3 location for the training scripts\\\n",
    "code_location_s3 = 's3://{}/{}/codes'.format(s3_bucket, s3_prefix)"
   ]
  },
  {
   "cell_type": "markdown",
   "metadata": {},
   "source": [
    "## Upload data to S3"
   ]
  },
  {
   "cell_type": "code",
   "execution_count": null,
   "metadata": {},
   "outputs": [],
   "source": [
    "local_data_path = 'data'\n",
    "Inputs = sagemaker_session.upload_data(path=local_data_path, bucket=s3_bucket, key_prefix='{}/data'.format(s3_prefix))\n",
    "\n",
    "print(Inputs)"
   ]
  },
  {
   "cell_type": "markdown",
   "metadata": {},
   "source": [
    "Next, we need to set up the data channels for the training job later.  Modify the code delow to reflect the channels you have.  Please note, you can not have a data channel without data in it. For example, if you don't have a test channel, then modify the **data_channel** assignment line below to remove **\"test\":s3_input_test**"
   ]
  },
  {
   "cell_type": "code",
   "execution_count": 6,
   "metadata": {},
   "outputs": [],
   "source": [
    "s3_input_train = \"s3://\" + s3_bucket + \"/\" + traindata_s3_prefix\n",
    "s3_input_validation = \"s3://\" + s3_bucket + \"/\"  + validationdata_s3_prefix\n",
    "s3_input_test = \"s3://\" + s3_bucket + \"/\"  + testdata_s3_prefix\n",
    "\n",
    "data_channel = {\"train\":s3_input_train, \"validation\": s3_input_validation, \"test\": s3_input_test}\n"
   ]
  },
  {
   "cell_type": "markdown",
   "metadata": {},
   "source": [
    "## Configure hyperparamters\n",
    "\n",
    "Change the hyperparameter below for reflect your hyperparameters.  The epochs hyperparameter below is meant as an example. If you don't have any hyperaparameters, then remove the cell below."
   ]
  },
  {
   "cell_type": "code",
   "execution_count": 11,
   "metadata": {},
   "outputs": [],
   "source": [
    "hyperparameters = {\"epochs\": 1}"
   ]
  },
  {
   "cell_type": "markdown",
   "metadata": {},
   "source": [
    "## Get the docker image uri\n",
    "Next, we will to get the docker image url in ECR. Enter the value of image_tag"
   ]
  },
  {
   "cell_type": "code",
   "execution_count": null,
   "metadata": {},
   "outputs": [],
   "source": [
    "image_tag = \"<name of the image>\"\n",
    "account = sagemaker_session.boto_session.client('sts').get_caller_identity()['Account']\n",
    "region = sagemaker_session.boto_session.region_name\n",
    "image = '{}.dkr.ecr.{}.amazonaws.com/{}:latest'.format(account, region, image_tag)\n",
    "print(image)"
   ]
  },
  {
   "cell_type": "markdown",
   "metadata": {},
   "source": [
    "## Start training job\n",
    "\n",
    "Now have the data uploaded to S3 bucket, the hyperparameter values set, and the model training image uri from ECR, we are ready to set up the SageMaker Estimator to kick off the training job."
   ]
  },
  {
   "cell_type": "code",
   "execution_count": null,
   "metadata": {},
   "outputs": [],
   "source": [
    "sk_estimator = sagemaker.estimator.Estimator(image,\n",
    "                       role=role, \n",
    "                       train_instance_count =1, \n",
    "                       train_instance_type = 'ml.c4.2xlarge',\n",
    "                       output_path=output_s3,\n",
    "                       sagemaker_session=sagemaker_session)\n",
    "\n",
    "sk_estimator.fit(data_channel)"
   ]
  },
  {
   "cell_type": "code",
   "execution_count": null,
   "metadata": {},
   "outputs": [],
   "source": []
  },
  {
   "cell_type": "code",
   "execution_count": null,
   "metadata": {},
   "outputs": [],
   "source": []
  }
 ],
 "metadata": {
  "kernelspec": {
   "display_name": "conda_tensorflow_p36",
   "language": "python",
   "name": "conda_tensorflow_p36"
  },
  "language_info": {
   "codemirror_mode": {
    "name": "ipython",
    "version": 3
   },
   "file_extension": ".py",
   "mimetype": "text/x-python",
   "name": "python",
   "nbconvert_exporter": "python",
   "pygments_lexer": "ipython3",
   "version": "3.6.5"
  }
 },
 "nbformat": 4,
 "nbformat_minor": 2
}
