{
 "cells": [
  {
   "cell_type": "markdown",
   "metadata": {},
   "source": [
    "## Local testing of docker image before using SageMaker for training\n",
    "\n",
    "You can also run the code below in an terminal. When you run this code in a terminal, make sure you are in the correct working folder **MY_PROJECT/container**\n",
    "\n",
    "First, we need to prepare test data if they are not already done.\n",
    "\n",
    "    -  copy training data to /opt/ml/data/input/train\n",
    "    -  copy validation data to /opt/ml/data/input/validation\n",
    "    -  if you have any hyperparameters, put them into hyperparameterts.json file in dictionary format"
   ]
  },
  {
   "cell_type": "markdown",
   "metadata": {},
   "source": [
    "Enter the name of docker image in the cell below and run the script. For debugging, you can print out any running status.  For any exceptions, an failure file will be placed in the /opt/ml/output folder. "
   ]
  },
  {
   "cell_type": "code",
   "execution_count": 17,
   "metadata": {},
   "outputs": [
    {
     "name": "stdout",
     "output_type": "stream",
     "text": [
      "Starting the training.\n",
      "reading hyperparameters /opt/ml/input/config/hyperparameters.json\n",
      "done with reading parameters\n",
      "{'epoch': 1}\n",
      "reading input files\n",
      "['/opt/ml/input/data/train/press203_data.csv']\n",
      "status    38336\n",
      "dtype: int64\n",
      "status    3731\n",
      "dtype: int64\n",
      "Train_x Shape ::  (25240, 61)\n",
      "Train_y Shape ::  (25240, 1)\n",
      "Test_x Shape ::  (16827, 61)\n",
      "Test_y Shape ::  (16827, 1)\n",
      "acc:0.9968503001129138\n",
      "training complete.\n"
     ]
    },
    {
     "name": "stderr",
     "output_type": "stream",
     "text": [
      "/usr/local/lib/python3.6/dist-packages/psycopg2/__init__.py:144: UserWarning: The psycopg2 wheel package will be renamed from release 2.8; in order to keep installing from binary please use \"pip install psycopg2-binary\" instead. For details see: <http://initd.org/psycopg/docs/install.html#binary-install-from-pypi>.\n",
      "  \"\"\")\n",
      "/usr/local/lib/python3.6/dist-packages/sklearn/ensemble/forest.py:246: FutureWarning: The default value of n_estimators will change from 10 in version 0.20 to 100 in 0.22.\n",
      "  \"10 in version 0.20 to 100 in 0.22.\", FutureWarning)\n",
      "train:167: DataConversionWarning: A column-vector y was passed when a 1d array was expected. Please change the shape of y to (n_samples,), for example using ravel().\n",
      "  trained_model.fit(train_X, train_y)\n"
     ]
    }
   ],
   "source": [
    "%%sh\n",
    "\n",
    "cd /home/ec2-user/SageMaker/SageMaker-Migration-Workshop/step-2/MY_PROJECT/container\n",
    "\n",
    "image=<name of docker image>\n",
    "\n",
    "docker run -v $(pwd)/opt/ml:/opt/ml --rm ${image} train"
   ]
  },
  {
   "cell_type": "code",
   "execution_count": null,
   "metadata": {},
   "outputs": [],
   "source": []
  }
 ],
 "metadata": {
  "kernelspec": {
   "display_name": "conda_tensorflow_p36",
   "language": "python",
   "name": "conda_tensorflow_p36"
  },
  "language_info": {
   "codemirror_mode": {
    "name": "ipython",
    "version": 3
   },
   "file_extension": ".py",
   "mimetype": "text/x-python",
   "name": "python",
   "nbconvert_exporter": "python",
   "pygments_lexer": "ipython3",
   "version": "3.6.5"
  }
 },
 "nbformat": 4,
 "nbformat_minor": 2
}
