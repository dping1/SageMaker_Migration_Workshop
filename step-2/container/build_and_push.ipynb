{
 "cells": [
  {
   "cell_type": "markdown",
   "metadata": {},
   "source": [
    "## Build Docker Container and Push to ECR\n",
    "\n",
    "The cell below will build the docker image and push it to your ECR repo.\n",
    "\n",
    "Before you execute the cell below, provide a name for the image variable"
   ]
  },
  {
   "cell_type": "code",
   "execution_count": 1,
   "metadata": {},
   "outputs": [
    {
     "name": "stdout",
     "output_type": "stream",
     "text": [
      "Login Succeeded\n",
      "Sending build context to Docker daemon  49.66kB\n",
      "Step 1/12 : From ubuntu:18.04\n",
      " ---> 93fd78260bd1\n",
      "Step 2/12 : MAINTAINER my-name@my-company.com\n",
      " ---> Using cache\n",
      " ---> 9d3b8c9cbe56\n",
      "Step 3/12 : RUN apt-get -y update && apt-get install -y --no-install-recommends          wget          python          nginx          ca-certificates     && rm -rf /var/lib/apt/lists/*\n",
      " ---> Using cache\n",
      " ---> e10e775b0713\n",
      "Step 4/12 : RUN apt update\n",
      " ---> Using cache\n",
      " ---> 2ec8a7fcfcef\n",
      "Step 5/12 : RUN apt install python3-pip -y\n",
      " ---> Using cache\n",
      " ---> 8f7d6b465e25\n",
      "Step 6/12 : RUN wget https://bootstrap.pypa.io/get-pip.py && python get-pip.py &&     pip3 install numpy==1.14.5 scipy scikit-learn pandas flask gevent gunicorn\n",
      " ---> Using cache\n",
      " ---> 3269e1c94ae1\n",
      "Step 7/12 : ENV PYTHONUNBUFFERED=TRUE\n",
      " ---> Using cache\n",
      " ---> f379d06b0ec0\n",
      "Step 8/12 : ENV PYTHONDONTWRITEBYTECODE=TRUE\n",
      " ---> Using cache\n",
      " ---> 2c413e0b74b1\n",
      "Step 9/12 : ENV PATH=\"/opt/program:${PATH}\"\n",
      " ---> Using cache\n",
      " ---> aa0ca18b2cf1\n",
      "Step 10/12 : COPY code_base /opt/program\n",
      " ---> f3d560d8d904\n",
      "Step 11/12 : WORKDIR /opt/program\n",
      " ---> Running in c800f721c167\n",
      "Removing intermediate container c800f721c167\n",
      " ---> 62e1f2586959\n",
      "Step 12/12 : ENTRYPOINT [\"python3\", \"train\"]\n",
      " ---> Running in 903f0c3a4409\n",
      "Removing intermediate container 903f0c3a4409\n",
      " ---> ad5f3b0d66fe\n",
      "Successfully built ad5f3b0d66fe\n",
      "Successfully tagged credit-model:latest\n",
      "The push refers to repository [300165273893.dkr.ecr.us-west-2.amazonaws.com/credit-model]\n",
      "31388330ada1: Preparing\n",
      "0bd433cbf6d5: Preparing\n",
      "d2d444a5cbbb: Preparing\n",
      "2251d745bc1f: Preparing\n",
      "04ecd4dc0930: Preparing\n",
      "b9b7103af585: Preparing\n",
      "ca2991e4676c: Preparing\n",
      "a768c3f3878e: Preparing\n",
      "bc7f4b25d0ae: Preparing\n",
      "b9b7103af585: Waiting\n",
      "ca2991e4676c: Waiting\n",
      "a768c3f3878e: Waiting\n",
      "bc7f4b25d0ae: Waiting\n",
      "d2d444a5cbbb: Layer already exists\n",
      "0bd433cbf6d5: Layer already exists\n",
      "2251d745bc1f: Layer already exists\n",
      "04ecd4dc0930: Layer already exists\n",
      "ca2991e4676c: Layer already exists\n",
      "b9b7103af585: Layer already exists\n",
      "a768c3f3878e: Layer already exists\n",
      "bc7f4b25d0ae: Layer already exists\n",
      "31388330ada1: Pushed\n",
      "latest: digest: sha256:2fda0b57c44191fe45f899af59a11c23a4e71c628b44b713d52b8bd9500fad5c size: 2208\n"
     ]
    },
    {
     "name": "stderr",
     "output_type": "stream",
     "text": [
      "WARNING! Using --password via the CLI is insecure. Use --password-stdin.\n",
      "WARNING! Your password will be stored unencrypted in /home/ec2-user/.docker/config.json.\n",
      "Configure a credential helper to remove this warning. See\n",
      "https://docs.docker.com/engine/reference/commandline/login/#credentials-store\n",
      "\n"
     ]
    }
   ],
   "source": [
    "%%sh\n",
    "\n",
    "sh build_and_push.sh\n"
   ]
  },
  {
   "cell_type": "markdown",
   "metadata": {},
   "source": [
    "## List docker image to make sure it has been built"
   ]
  },
  {
   "cell_type": "code",
   "execution_count": 21,
   "metadata": {},
   "outputs": [
    {
     "name": "stdout",
     "output_type": "stream",
     "text": [
      "REPOSITORY                                                                     TAG                 IMAGE ID            CREATED             SIZE\n",
      "300165273893.dkr.ecr.us-west-2.amazonaws.com/credit-model                      latest              c32133f223f3        2 minutes ago       838MB\n",
      "credit-model                                                                   latest              c32133f223f3        2 minutes ago       838MB\n",
      "300165273893.dkr.ecr.us-west-2.amazonaws.com/credit-model                      <none>              90c42f7a063a        About an hour ago   838MB\n",
      "300165273893.dkr.ecr.us-west-2.amazonaws.com/credit-model                      <none>              53313c6df561        About an hour ago   838MB\n",
      "300165273893.dkr.ecr.us-west-2.amazonaws.com/credit-model                      <none>              28d9a583a395        2 hours ago         838MB\n",
      "<none>                                                                         <none>              7b3195fdd59f        2 hours ago         838MB\n",
      "300165273893.dkr.ecr.us-west-2.amazonaws.com/mrcnn-test                        latest              44cc5578b25a        4 days ago          973MB\n",
      "mrcnn-test                                                                     latest              44cc5578b25a        4 days ago          973MB\n",
      "520713654638.dkr.ecr.us-west-2.amazonaws.com/sagemaker-tensorflow              1.11.0-cpu-py2      78dadd8270c0        7 days ago          1.22GB\n",
      "520713654638.dkr.ecr.us-west-2.amazonaws.com/sagemaker-tensorflow-scriptmode   1.11.0-cpu-py3      1da5fab1cd16        2 weeks ago         1.14GB\n",
      "520713654638.dkr.ecr.us-west-2.amazonaws.com/sagemaker-tensorflow-scriptmode   1.11.0-gpu-py3      0f9a94956c09        2 weeks ago         3.3GB\n",
      "520713654638.dkr.ecr.us-west-2.amazonaws.com/sagemaker-tensorflow-scriptmode   1.11.0-cpu-py2      e0a72f60eba1        2 weeks ago         1.15GB\n",
      "ubuntu                                                                         18.04               93fd78260bd1        4 weeks ago         86.2MB\n"
     ]
    }
   ],
   "source": [
    "%%sh\n",
    "\n",
    "docker images"
   ]
  },
  {
   "cell_type": "code",
   "execution_count": null,
   "metadata": {},
   "outputs": [],
   "source": []
  }
 ],
 "metadata": {
  "kernelspec": {
   "display_name": "conda_pytorch_p36",
   "language": "python",
   "name": "conda_pytorch_p36"
  },
  "language_info": {
   "codemirror_mode": {
    "name": "ipython",
    "version": 3
   },
   "file_extension": ".py",
   "mimetype": "text/x-python",
   "name": "python",
   "nbconvert_exporter": "python",
   "pygments_lexer": "ipython3",
   "version": "3.6.5"
  }
 },
 "nbformat": 4,
 "nbformat_minor": 2
}
