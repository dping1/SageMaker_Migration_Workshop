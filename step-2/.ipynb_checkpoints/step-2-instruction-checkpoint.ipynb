{
 "cells": [
  {
   "cell_type": "markdown",
   "metadata": {},
   "source": [
    "# Step 2 - Training with SagMaker SDK\n",
    "\n",
    "In this step, we will make some changes to your existing code to work with the SageMaker trainingh service.\n",
    "\n",
    "First, let's get some working folders and boilder plate files created. "
   ]
  },
  {
   "cell_type": "code",
   "execution_count": 22,
   "metadata": {},
   "outputs": [],
   "source": [
    "%%sh\n",
    "\n",
    "DIRECTORY=my-project\n",
    "\n",
    "target_dir=$DIRECTORY\n",
    "if [ ! -d \"$target_dir\" ]; then\n",
    "    mkdir $target_dir\n",
    "fi\n",
    "\n",
    "target_dir=$DIRECTORY/src\n",
    "if [ ! -d \"$target_dir\" ]; then\n",
    "    mkdir $target_dir\n",
    "fi\n",
    "\n",
    "target_dir=$DIRECTORY/data\n",
    "if [ ! -d \"$target_dir\" ]; then\n",
    "    mkdir $target_dir\n",
    "fi\n",
    "\n",
    "target_dir=$DIRECTORY/data/train\n",
    "if [ ! -d \"$target_dir\" ]; then\n",
    "    mkdir $target_dir\n",
    "fi\n",
    "\n",
    "target_dir=$DIRECTORY/data/validation\n",
    "if [ ! -d \"$target_dir\" ]; then\n",
    "    mkdir $target_dir\n",
    "fi\n",
    "\n",
    "target_dir=$DIRECTORY/data/test\n",
    "if [ ! -d \"$target_dir\" ]; then\n",
    "    mkdir $target_dir\n",
    "fi\n",
    "\n",
    "SOURCE_DIR=my-project\n",
    "\n",
    "cp -a ../step-1/$SOURCE_DIR/* ./$DIRECTORY/src"
   ]
  },
  {
   "cell_type": "markdown",
   "metadata": {},
   "source": [
    "After running the cell above, you will see some news files and files got created. These folders are created to help with SageMaker training.\n",
    "\n",
    " - *my-project*:  This is the main working folder for this step\n",
    " - *my-project/src*:  All your source codes from step 1 will be copied here.  \n",
    " - *my-project/data/train*: This is where the trainingh dataset should be stored.\n",
    " - *my-project/data/validation*: This is where the validation dataset should be stored\n",
    " - *my-project/data/test*:  This is where the test dataset should be stored"
   ]
  },
  {
   "cell_type": "code",
   "execution_count": null,
   "metadata": {},
   "outputs": [],
   "source": [
    "# Uncomment line below if your framework is TensorFlow/Keras\n",
    "#ML_FRAMEWORK=TF  \n",
    "\n",
    "# Uncomment line below if your ML framework is scit-learn\n",
    "ML_FRAMEWORK=SK\n",
    "\n",
    "DIRECTORY=my-project\n",
    "\n",
    "cp training_inputs.py ./$DIRECTORY/training_inputs.py\n",
    "\n",
    "cp job_launcher.ipynb ./$DIRECTORY/job_launcher.ipynb"
   ]
  },
  {
   "cell_type": "markdown",
   "metadata": {},
   "source": [
    "Remove any folders and files generated from training job run in step 1"
   ]
  },
  {
   "cell_type": "code",
   "execution_count": 21,
   "metadata": {},
   "outputs": [],
   "source": [
    "%%sh\n",
    "\n",
    "rm -r my-project\n"
   ]
  },
  {
   "cell_type": "markdown",
   "metadata": {},
   "source": [
    "### prepare training script\n",
    "\n",
    "First you will need to modify your training script. You will need to have your main training script as .py file. If you have a .ipynb file, then export it to an executable script using the **Export Notebook as..** feature under the **File** menu.\n",
    "\n",
    "Upload the .py file back into the working folder. You will need this **.py** file for SageMaker training later.\n",
    "\n",
    "\n",
    "Next, we need to modify the script so it can work with the SageMaker SDK. First, open the file called training_inputs.py file and review the content in it.  You will need to make some changes to it later.\n",
    "\n",
    "Now open your main training .py script and add the lines in the cell below to your the **main** function in your script or at he beginning of the scrpt :  "
   ]
  },
  {
   "cell_type": "markdown",
   "metadata": {},
   "source": [
    "## local mode testing\n",
    "\n",
    "SageMaker SDK supports local mode testing in your Jupyter Notebook instance. This feature allows you test your code quickly without the need to launch separate infrastructure for experiements. Once everything works locally, you can then switch to SageMaker training service with single line change for model training at scale.\n",
    "\n",
    "First let's copy your files from step 1 to the step 2 folder by running the command below"
   ]
  },
  {
   "cell_type": "code",
   "execution_count": null,
   "metadata": {},
   "outputs": [],
   "source": [
    "from training_inputs import parse_args\n",
    "\n",
    "args, unknown = parse_args()\n",
    "\n",
    "SM_MODEL_DIR = args.model_dir\n",
    "SM_CHANNEL_TRAIN = args.train\n",
    "SM_CHANNEL_VALIDATION = args.validation"
   ]
  },
  {
   "cell_type": "markdown",
   "metadata": {},
   "source": [
    "if you need to install any packages.  Open the install_packages.py file and use os.system() to install any packages needed.  After you made the change, add the following lines to the main trainingh script"
   ]
  },
  {
   "cell_type": "code",
   "execution_count": null,
   "metadata": {},
   "outputs": [],
   "source": []
  }
 ],
 "metadata": {
  "kernelspec": {
   "display_name": "conda_python3",
   "language": "python",
   "name": "conda_python3"
  },
  "language_info": {
   "codemirror_mode": {
    "name": "ipython",
    "version": 3
   },
   "file_extension": ".py",
   "mimetype": "text/x-python",
   "name": "python",
   "nbconvert_exporter": "python",
   "pygments_lexer": "ipython3",
   "version": "3.6.5"
  }
 },
 "nbformat": 4,
 "nbformat_minor": 2
}
